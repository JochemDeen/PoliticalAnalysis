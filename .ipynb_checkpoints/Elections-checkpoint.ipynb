{
 "cells": [
  {
   "cell_type": "code",
   "execution_count": 1,
   "metadata": {},
   "outputs": [
    {
     "data": {
      "text/plain": [
       "('elections.csv', <http.client.HTTPMessage at 0x7f02243b4d30>)"
      ]
     },
     "execution_count": 1,
     "metadata": {},
     "output_type": "execute_result"
    }
   ],
   "source": [
    "import urllib.request\n",
    "urllib.request.urlretrieve (\"http://www.parlgov.org/static/data/development-cp1252/view_election.csv\", \"elections.csv\")"
   ]
  },
  {
   "cell_type": "code",
   "execution_count": 5,
   "metadata": {},
   "outputs": [
    {
     "data": {
      "text/plain": [
       "('electionsutf8.csv', <http.client.HTTPMessage at 0x7f01f7db7160>)"
      ]
     },
     "execution_count": 5,
     "metadata": {},
     "output_type": "execute_result"
    }
   ],
   "source": [
    "urllib.request.urlretrieve(\"http://www.parlgov.org/static/data/development-utf-8/view_election.csv\",\"electionsutf8.csv\")"
   ]
  },
  {
   "cell_type": "code",
   "execution_count": 12,
   "metadata": {},
   "outputs": [],
   "source": [
    "import pandas as pd\n",
    "import numpy as np"
   ]
  },
  {
   "cell_type": "code",
   "execution_count": 6,
   "metadata": {},
   "outputs": [],
   "source": [
    "elections = pd.read_csv('electionsutf8.csv')"
   ]
  },
  {
   "cell_type": "code",
   "execution_count": 7,
   "metadata": {},
   "outputs": [
    {
     "data": {
      "text/html": [
       "<div>\n",
       "<style scoped>\n",
       "    .dataframe tbody tr th:only-of-type {\n",
       "        vertical-align: middle;\n",
       "    }\n",
       "\n",
       "    .dataframe tbody tr th {\n",
       "        vertical-align: top;\n",
       "    }\n",
       "\n",
       "    .dataframe thead th {\n",
       "        text-align: right;\n",
       "    }\n",
       "</style>\n",
       "<table border=\"1\" class=\"dataframe\">\n",
       "  <thead>\n",
       "    <tr style=\"text-align: right;\">\n",
       "      <th></th>\n",
       "      <th>country_name_short</th>\n",
       "      <th>country_name</th>\n",
       "      <th>election_type</th>\n",
       "      <th>election_date</th>\n",
       "      <th>vote_share</th>\n",
       "      <th>seats</th>\n",
       "      <th>seats_total</th>\n",
       "      <th>party_name_short</th>\n",
       "      <th>party_name</th>\n",
       "      <th>party_name_english</th>\n",
       "      <th>left_right</th>\n",
       "      <th>country_id</th>\n",
       "      <th>election_id</th>\n",
       "      <th>previous_parliament_election_id</th>\n",
       "      <th>previous_cabinet_id</th>\n",
       "      <th>party_id</th>\n",
       "    </tr>\n",
       "  </thead>\n",
       "  <tbody>\n",
       "    <tr>\n",
       "      <th>0</th>\n",
       "      <td>AUS</td>\n",
       "      <td>Australia</td>\n",
       "      <td>parliament</td>\n",
       "      <td>1901-03-30</td>\n",
       "      <td>44.4</td>\n",
       "      <td>32.0</td>\n",
       "      <td>75</td>\n",
       "      <td>PP</td>\n",
       "      <td>Protectionist Party</td>\n",
       "      <td>Protectionist Party</td>\n",
       "      <td>7.4000</td>\n",
       "      <td>33</td>\n",
       "      <td>731</td>\n",
       "      <td>NaN</td>\n",
       "      <td>NaN</td>\n",
       "      <td>1898</td>\n",
       "    </tr>\n",
       "    <tr>\n",
       "      <th>1</th>\n",
       "      <td>AUS</td>\n",
       "      <td>Australia</td>\n",
       "      <td>parliament</td>\n",
       "      <td>1901-03-30</td>\n",
       "      <td>34.2</td>\n",
       "      <td>26.0</td>\n",
       "      <td>75</td>\n",
       "      <td>FTP</td>\n",
       "      <td>Free Trade Party</td>\n",
       "      <td>Free Trade Party</td>\n",
       "      <td>6.0000</td>\n",
       "      <td>33</td>\n",
       "      <td>731</td>\n",
       "      <td>NaN</td>\n",
       "      <td>NaN</td>\n",
       "      <td>1938</td>\n",
       "    </tr>\n",
       "    <tr>\n",
       "      <th>2</th>\n",
       "      <td>AUS</td>\n",
       "      <td>Australia</td>\n",
       "      <td>parliament</td>\n",
       "      <td>1901-03-30</td>\n",
       "      <td>19.4</td>\n",
       "      <td>15.0</td>\n",
       "      <td>75</td>\n",
       "      <td>ALP</td>\n",
       "      <td>Australian Labor Party</td>\n",
       "      <td>Australian Labor Party</td>\n",
       "      <td>3.8833</td>\n",
       "      <td>33</td>\n",
       "      <td>731</td>\n",
       "      <td>NaN</td>\n",
       "      <td>NaN</td>\n",
       "      <td>1253</td>\n",
       "    </tr>\n",
       "    <tr>\n",
       "      <th>3</th>\n",
       "      <td>AUS</td>\n",
       "      <td>Australia</td>\n",
       "      <td>parliament</td>\n",
       "      <td>1901-03-30</td>\n",
       "      <td>1.4</td>\n",
       "      <td>1.0</td>\n",
       "      <td>75</td>\n",
       "      <td>none</td>\n",
       "      <td>no party affiliation</td>\n",
       "      <td>no party affiliation</td>\n",
       "      <td>NaN</td>\n",
       "      <td>33</td>\n",
       "      <td>731</td>\n",
       "      <td>NaN</td>\n",
       "      <td>NaN</td>\n",
       "      <td>1396</td>\n",
       "    </tr>\n",
       "    <tr>\n",
       "      <th>4</th>\n",
       "      <td>AUS</td>\n",
       "      <td>Australia</td>\n",
       "      <td>parliament</td>\n",
       "      <td>1901-03-30</td>\n",
       "      <td>0.6</td>\n",
       "      <td>1.0</td>\n",
       "      <td>75</td>\n",
       "      <td>one-seat</td>\n",
       "      <td>one seat</td>\n",
       "      <td>one seat</td>\n",
       "      <td>NaN</td>\n",
       "      <td>33</td>\n",
       "      <td>731</td>\n",
       "      <td>NaN</td>\n",
       "      <td>NaN</td>\n",
       "      <td>2299</td>\n",
       "    </tr>\n",
       "  </tbody>\n",
       "</table>\n",
       "</div>"
      ],
      "text/plain": [
       "  country_name_short country_name election_type election_date  vote_share  \\\n",
       "0                AUS    Australia    parliament    1901-03-30        44.4   \n",
       "1                AUS    Australia    parliament    1901-03-30        34.2   \n",
       "2                AUS    Australia    parliament    1901-03-30        19.4   \n",
       "3                AUS    Australia    parliament    1901-03-30         1.4   \n",
       "4                AUS    Australia    parliament    1901-03-30         0.6   \n",
       "\n",
       "   seats  seats_total party_name_short              party_name  \\\n",
       "0   32.0           75               PP     Protectionist Party   \n",
       "1   26.0           75              FTP        Free Trade Party   \n",
       "2   15.0           75              ALP  Australian Labor Party   \n",
       "3    1.0           75             none    no party affiliation   \n",
       "4    1.0           75         one-seat                one seat   \n",
       "\n",
       "       party_name_english  left_right  country_id  election_id  \\\n",
       "0     Protectionist Party      7.4000          33          731   \n",
       "1        Free Trade Party      6.0000          33          731   \n",
       "2  Australian Labor Party      3.8833          33          731   \n",
       "3    no party affiliation         NaN          33          731   \n",
       "4                one seat         NaN          33          731   \n",
       "\n",
       "   previous_parliament_election_id  previous_cabinet_id  party_id  \n",
       "0                              NaN                  NaN      1898  \n",
       "1                              NaN                  NaN      1938  \n",
       "2                              NaN                  NaN      1253  \n",
       "3                              NaN                  NaN      1396  \n",
       "4                              NaN                  NaN      2299  "
      ]
     },
     "execution_count": 7,
     "metadata": {},
     "output_type": "execute_result"
    }
   ],
   "source": [
    "elections.head()"
   ]
  },
  {
   "cell_type": "code",
   "execution_count": 8,
   "metadata": {},
   "outputs": [],
   "source": [
    "electionsNL = elections.loc[elections['country_name'] == \"Netherlands\"]"
   ]
  },
  {
   "cell_type": "code",
   "execution_count": 9,
   "metadata": {},
   "outputs": [
    {
     "data": {
      "text/html": [
       "<div>\n",
       "<style scoped>\n",
       "    .dataframe tbody tr th:only-of-type {\n",
       "        vertical-align: middle;\n",
       "    }\n",
       "\n",
       "    .dataframe tbody tr th {\n",
       "        vertical-align: top;\n",
       "    }\n",
       "\n",
       "    .dataframe thead th {\n",
       "        text-align: right;\n",
       "    }\n",
       "</style>\n",
       "<table border=\"1\" class=\"dataframe\">\n",
       "  <thead>\n",
       "    <tr style=\"text-align: right;\">\n",
       "      <th></th>\n",
       "      <th>country_name_short</th>\n",
       "      <th>country_name</th>\n",
       "      <th>election_type</th>\n",
       "      <th>election_date</th>\n",
       "      <th>vote_share</th>\n",
       "      <th>seats</th>\n",
       "      <th>seats_total</th>\n",
       "      <th>party_name_short</th>\n",
       "      <th>party_name</th>\n",
       "      <th>party_name_english</th>\n",
       "      <th>left_right</th>\n",
       "      <th>country_id</th>\n",
       "      <th>election_id</th>\n",
       "      <th>previous_parliament_election_id</th>\n",
       "      <th>previous_cabinet_id</th>\n",
       "      <th>party_id</th>\n",
       "    </tr>\n",
       "  </thead>\n",
       "  <tbody>\n",
       "    <tr>\n",
       "      <th>6245</th>\n",
       "      <td>NLD</td>\n",
       "      <td>Netherlands</td>\n",
       "      <td>parliament</td>\n",
       "      <td>1918-07-03</td>\n",
       "      <td>30.0</td>\n",
       "      <td>30.0</td>\n",
       "      <td>93</td>\n",
       "      <td>RKP</td>\n",
       "      <td>Roomsch Katholieke Partij</td>\n",
       "      <td>Roman Catholic Party</td>\n",
       "      <td>6.2000</td>\n",
       "      <td>8</td>\n",
       "      <td>937</td>\n",
       "      <td>NaN</td>\n",
       "      <td>NaN</td>\n",
       "      <td>2539</td>\n",
       "    </tr>\n",
       "    <tr>\n",
       "      <th>6246</th>\n",
       "      <td>NLD</td>\n",
       "      <td>Netherlands</td>\n",
       "      <td>parliament</td>\n",
       "      <td>1918-07-03</td>\n",
       "      <td>22.0</td>\n",
       "      <td>22.0</td>\n",
       "      <td>93</td>\n",
       "      <td>SDAP</td>\n",
       "      <td>Sociaal Democratische Arbeiders Partij</td>\n",
       "      <td>Social Democratic Workers' Party</td>\n",
       "      <td>3.3000</td>\n",
       "      <td>8</td>\n",
       "      <td>937</td>\n",
       "      <td>NaN</td>\n",
       "      <td>NaN</td>\n",
       "      <td>1451</td>\n",
       "    </tr>\n",
       "    <tr>\n",
       "      <th>6247</th>\n",
       "      <td>NLD</td>\n",
       "      <td>Netherlands</td>\n",
       "      <td>parliament</td>\n",
       "      <td>1918-07-03</td>\n",
       "      <td>13.4</td>\n",
       "      <td>13.0</td>\n",
       "      <td>93</td>\n",
       "      <td>ARP</td>\n",
       "      <td>Anti-Revolutionaire Partij</td>\n",
       "      <td>Anti-Revolutionary Party</td>\n",
       "      <td>5.8067</td>\n",
       "      <td>8</td>\n",
       "      <td>937</td>\n",
       "      <td>NaN</td>\n",
       "      <td>NaN</td>\n",
       "      <td>300</td>\n",
       "    </tr>\n",
       "    <tr>\n",
       "      <th>6248</th>\n",
       "      <td>NLD</td>\n",
       "      <td>Netherlands</td>\n",
       "      <td>parliament</td>\n",
       "      <td>1918-07-03</td>\n",
       "      <td>6.5</td>\n",
       "      <td>7.0</td>\n",
       "      <td>93</td>\n",
       "      <td>CHU</td>\n",
       "      <td>Christelijk-Historische Unie</td>\n",
       "      <td>Christian Historical Union</td>\n",
       "      <td>5.8067</td>\n",
       "      <td>8</td>\n",
       "      <td>937</td>\n",
       "      <td>NaN</td>\n",
       "      <td>NaN</td>\n",
       "      <td>405</td>\n",
       "    </tr>\n",
       "    <tr>\n",
       "      <th>6249</th>\n",
       "      <td>NLD</td>\n",
       "      <td>Netherlands</td>\n",
       "      <td>parliament</td>\n",
       "      <td>1918-07-03</td>\n",
       "      <td>6.2</td>\n",
       "      <td>6.0</td>\n",
       "      <td>93</td>\n",
       "      <td>LU</td>\n",
       "      <td>Liberale Unie</td>\n",
       "      <td>Liberal Union</td>\n",
       "      <td>6.0000</td>\n",
       "      <td>8</td>\n",
       "      <td>937</td>\n",
       "      <td>NaN</td>\n",
       "      <td>NaN</td>\n",
       "      <td>2462</td>\n",
       "    </tr>\n",
       "  </tbody>\n",
       "</table>\n",
       "</div>"
      ],
      "text/plain": [
       "     country_name_short country_name election_type election_date  vote_share  \\\n",
       "6245                NLD  Netherlands    parliament    1918-07-03        30.0   \n",
       "6246                NLD  Netherlands    parliament    1918-07-03        22.0   \n",
       "6247                NLD  Netherlands    parliament    1918-07-03        13.4   \n",
       "6248                NLD  Netherlands    parliament    1918-07-03         6.5   \n",
       "6249                NLD  Netherlands    parliament    1918-07-03         6.2   \n",
       "\n",
       "      seats  seats_total party_name_short  \\\n",
       "6245   30.0           93              RKP   \n",
       "6246   22.0           93             SDAP   \n",
       "6247   13.0           93              ARP   \n",
       "6248    7.0           93              CHU   \n",
       "6249    6.0           93               LU   \n",
       "\n",
       "                                  party_name  \\\n",
       "6245               Roomsch Katholieke Partij   \n",
       "6246  Sociaal Democratische Arbeiders Partij   \n",
       "6247              Anti-Revolutionaire Partij   \n",
       "6248            Christelijk-Historische Unie   \n",
       "6249                           Liberale Unie   \n",
       "\n",
       "                    party_name_english  left_right  country_id  election_id  \\\n",
       "6245              Roman Catholic Party      6.2000           8          937   \n",
       "6246  Social Democratic Workers' Party      3.3000           8          937   \n",
       "6247          Anti-Revolutionary Party      5.8067           8          937   \n",
       "6248        Christian Historical Union      5.8067           8          937   \n",
       "6249                    Liberal Union       6.0000           8          937   \n",
       "\n",
       "      previous_parliament_election_id  previous_cabinet_id  party_id  \n",
       "6245                              NaN                  NaN      2539  \n",
       "6246                              NaN                  NaN      1451  \n",
       "6247                              NaN                  NaN       300  \n",
       "6248                              NaN                  NaN       405  \n",
       "6249                              NaN                  NaN      2462  "
      ]
     },
     "execution_count": 9,
     "metadata": {},
     "output_type": "execute_result"
    }
   ],
   "source": [
    "electionsNL.head()"
   ]
  },
  {
   "cell_type": "code",
   "execution_count": 13,
   "metadata": {},
   "outputs": [],
   "source": [
    "dates = np.unique(electionsNL['election_date'])"
   ]
  },
  {
   "cell_type": "code",
   "execution_count": 54,
   "metadata": {},
   "outputs": [],
   "source": [
    "from datetime import datetime\n",
    "plotDate=[]\n",
    "\n",
    "for date in dates:\n",
    "    plotDate.append(datetime.strptime(date, '%Y-%m-%d'))"
   ]
  },
  {
   "cell_type": "code",
   "execution_count": 75,
   "metadata": {},
   "outputs": [],
   "source": [
    "medLine = []\n",
    "AllSeats = []\n",
    "AllLR = []\n",
    "\n",
    "for date in dates:\n",
    "    E= np.array([])\n",
    "    seats = electionsNL.loc[electionsNL['election_date'] == date]['seats']\n",
    "    left_right = electionsNL.loc[electionsNL['election_date'] == date]['left_right']\n",
    "    \n",
    "    AllSeats.append(seats.values)\n",
    "    AllLR.append(left_right.values)\n",
    "    for index,row in electionsNL.loc[electionsNL['election_date'] == date].iterrows():\n",
    "        if row['seats']>0 and not np.isnan(row['left_right']):\n",
    "            E = np.append(E, np.full(int(row['seats']),row['left_right']))\n",
    "    medLine.append(np.median(E))"
   ]
  },
  {
   "cell_type": "code",
   "execution_count": 74,
   "metadata": {
    "scrolled": true
   },
   "outputs": [
    {
     "name": "stdout",
     "output_type": "stream",
     "text": [
      "[32. 20. 16. 11. 10.  5.  2.  2.  1.  1.  0.]\n"
     ]
    }
   ],
   "source": [
    "test = electionsNL.loc[electionsNL['election_date'] == dates[1]]\n",
    "print(test['seats'].values)"
   ]
  },
  {
   "cell_type": "code",
   "execution_count": 78,
   "metadata": {},
   "outputs": [
    {
     "name": "stdout",
     "output_type": "stream",
     "text": [
      "[array([30., 22., 13.,  7.,  6.,  5.,  4.,  3.,  2.,  1.,  0.]), array([32., 20., 16., 11., 10.,  5.,  2.,  2.,  1.,  1.,  0.]), array([30., 24., 13., 11.,  9.,  7.,  2.,  1.,  1.,  1.,  1.,  0.]), array([30., 24., 12., 11.,  8.,  7.,  3.,  2.,  1.,  1.,  1.,  0.]), array([28., 22., 14., 10.,  7.,  6.,  4.,  3.,  1.,  1.,  1.,  1.,  1.,\n",
      "        1.,  0.]), array([31., 23., 17.,  8.,  6.,  4.,  4.,  3.,  2.,  2.,  0.]), array([32., 29., 13., 10.,  8.,  6.,  2.,  0.]), array([32., 27., 13.,  9.,  8.,  8.,  2.,  1.,  0.]), array([30., 30., 12.,  9.,  9.,  6.,  2.,  2.,  0.]), array([50., 49., 15., 13., 13.,  7.,  3.,  0.]), array([49., 48., 19., 14., 12.,  3.,  3.,  2.,  0.]), array([50., 43., 16., 13., 13.,  4.,  4.,  3.,  3.,  1.,  0.]), array([42., 37., 17., 15., 12.,  7.,  7.,  5.,  4.,  3.,  1.,  0.]), array([39., 35., 16., 13., 11., 10.,  8.,  6.,  3.,  2.,  2.,  2.,  2.,\n",
      "        1.,  0.]), array([43., 27., 22., 14.,  7.,  7.,  7.,  6.,  6.,  3.,  3.,  2.,  2.,\n",
      "        1.,  0.]), array([53., 49., 28.,  8.,  3.,  3.,  2.,  1.,  1.,  1.,  1.,  0.]), array([10.,  9.,  4.,  2.,  0.,  0.,  0.,  0.,  0.]), array([48., 44., 26., 17.,  3.,  3.,  3.,  3.,  2.,  1.,  0.]), array([47., 45., 36.,  6.,  3.,  3.,  3.,  2.,  2.,  1.,  1.,  1.,  0.]), array([9., 8., 5., 2., 1., 0., 0., 0.]), array([54., 52., 27.,  9.,  3.,  2.,  1.,  1.,  1.,  0.]), array([10.,  8.,  3.,  2.,  1.,  1.,  0.]), array([54., 49., 22., 12.,  6.,  3.,  2.,  1.,  1.,  0.]), array([37., 34., 31., 24.,  6.,  5.,  3.,  3.,  2.,  2.,  2.,  1.,  0.]), array([10.,  8.,  6.,  4.,  2.,  1.,  0.,  0.,  0.]), array([45., 38., 29., 14., 11.,  5.,  3.,  3.,  2.,  0.]), array([9., 6., 6., 4., 3., 2., 1., 0.]), array([43., 26., 24., 23., 10.,  9.,  7.,  4.,  2.,  2.,  0.]), array([44., 42., 28.,  9.,  8.,  8.,  6.,  3.,  2.,  0.]), array([7., 7., 4., 2., 2., 2., 2., 1., 0., 0.]), array([41., 33., 25., 22.,  9.,  7.,  6.,  3.,  2.,  2.,  0.]), array([5., 4., 3., 3., 3., 3., 2., 2., 0.]), array([31., 30., 24., 21., 15., 10., 10.,  5.,  2.,  2.,  0.]), array([41., 38., 15., 15., 13., 12.,  5.,  4.,  3.,  2.,  2.,  0.]), array([5., 4., 4., 3., 3., 2., 2., 2., 1., 0.]), array([33., 20., 19., 19., 14., 14.,  9.,  5.,  5.,  4.,  3.,  3.,  2.,\n",
      "        0.])]\n"
     ]
    }
   ],
   "source": [
    "print(AllSeats)"
   ]
  },
  {
   "cell_type": "code",
   "execution_count": 81,
   "metadata": {},
   "outputs": [
    {
     "ename": "TypeError",
     "evalue": "unsupported operand type(s) for *: 'datetime.datetime' and 'float'",
     "output_type": "error",
     "traceback": [
      "\u001b[0;31m---------------------------------------------------------------------------\u001b[0m",
      "\u001b[0;31mTypeError\u001b[0m                                 Traceback (most recent call last)",
      "\u001b[0;32m<ipython-input-81-a597dbdf1092>\u001b[0m in \u001b[0;36m<module>\u001b[0;34m\u001b[0m\n\u001b[1;32m      3\u001b[0m \u001b[0mplt\u001b[0m\u001b[0;34m.\u001b[0m\u001b[0mstep\u001b[0m\u001b[0;34m(\u001b[0m\u001b[0mplotDate\u001b[0m\u001b[0;34m,\u001b[0m\u001b[0mmedLine\u001b[0m\u001b[0;34m)\u001b[0m\u001b[0;34m\u001b[0m\u001b[0m\n\u001b[1;32m      4\u001b[0m \u001b[0;32mfor\u001b[0m \u001b[0mi\u001b[0m\u001b[0;34m,\u001b[0m \u001b[0mseats\u001b[0m \u001b[0;32min\u001b[0m \u001b[0menumerate\u001b[0m\u001b[0;34m(\u001b[0m\u001b[0mAllSeats\u001b[0m\u001b[0;34m)\u001b[0m\u001b[0;34m:\u001b[0m\u001b[0;34m\u001b[0m\u001b[0m\n\u001b[0;32m----> 5\u001b[0;31m     \u001b[0mplt\u001b[0m\u001b[0;34m.\u001b[0m\u001b[0mscatter\u001b[0m\u001b[0;34m(\u001b[0m\u001b[0mplotDate\u001b[0m\u001b[0;34m[\u001b[0m\u001b[0mi\u001b[0m\u001b[0;34m]\u001b[0m\u001b[0;34m*\u001b[0m\u001b[0mnp\u001b[0m\u001b[0;34m.\u001b[0m\u001b[0mones\u001b[0m\u001b[0;34m(\u001b[0m\u001b[0mlen\u001b[0m\u001b[0;34m(\u001b[0m\u001b[0mseats\u001b[0m\u001b[0;34m)\u001b[0m\u001b[0;34m)\u001b[0m\u001b[0;34m,\u001b[0m \u001b[0mseats\u001b[0m\u001b[0;34m)\u001b[0m\u001b[0;34m\u001b[0m\u001b[0m\n\u001b[0m\u001b[1;32m      6\u001b[0m \u001b[0mplt\u001b[0m\u001b[0;34m.\u001b[0m\u001b[0mshow\u001b[0m\u001b[0;34m(\u001b[0m\u001b[0;34m)\u001b[0m\u001b[0;34m\u001b[0m\u001b[0m\n",
      "\u001b[0;31mTypeError\u001b[0m: unsupported operand type(s) for *: 'datetime.datetime' and 'float'"
     ]
    },
    {
     "data": {
      "image/png": "[encoded data removed]",
      "text/plain": [
       "<Figure size 432x288 with 1 Axes>"
      ]
     },
     "metadata": {
      "needs_background": "light"
     },
     "output_type": "display_data"
    }
   ],
   "source": [
    "import matplotlib.pyplot as plt\n",
    "%matplotlib inline\n",
    "plt.step(plotDate,medLine)\n",
    "for i, seats in enumerate(AllSeats):\n",
    "    plt.scatter(plotDate[i]*np.ones(len(seats)), seats)\n",
    "plt.show()"
   ]
  },
  {
   "cell_type": "code",
   "execution_count": 77,
   "metadata": {},
   "outputs": [
    {
     "ename": "ImportError",
     "evalue": "No module named 'bokeh'",
     "output_type": "error",
     "traceback": [
      "\u001b[0;31m---------------------------------------------------------------------------\u001b[0m",
      "\u001b[0;31mImportError\u001b[0m                               Traceback (most recent call last)",
      "\u001b[0;32m<ipython-input-77-bbc5a683a7b5>\u001b[0m in \u001b[0;36m<module>\u001b[0;34m\u001b[0m\n\u001b[0;32m----> 1\u001b[0;31m \u001b[0;32mimport\u001b[0m \u001b[0mbokeh\u001b[0m\u001b[0;34m\u001b[0m\u001b[0m\n\u001b[0m\u001b[1;32m      2\u001b[0m \u001b[0;32mfrom\u001b[0m \u001b[0mbokeh\u001b[0m\u001b[0;34m.\u001b[0m\u001b[0mplotting\u001b[0m \u001b[0;32mimport\u001b[0m \u001b[0mfigure\u001b[0m\u001b[0;34m,\u001b[0m \u001b[0moutput_file\u001b[0m\u001b[0;34m,\u001b[0m \u001b[0mshow\u001b[0m\u001b[0;34m\u001b[0m\u001b[0m\n\u001b[1;32m      3\u001b[0m \u001b[0;34m\u001b[0m\u001b[0m\n\u001b[1;32m      4\u001b[0m \u001b[0mp\u001b[0m \u001b[0;34m=\u001b[0m \u001b[0mfigure\u001b[0m\u001b[0;34m(\u001b[0m\u001b[0mplot_width\u001b[0m\u001b[0;34m=\u001b[0m\u001b[0;36m400\u001b[0m\u001b[0;34m,\u001b[0m \u001b[0mplot_height\u001b[0m\u001b[0;34m=\u001b[0m\u001b[0;36m400\u001b[0m\u001b[0;34m)\u001b[0m\u001b[0;34m\u001b[0m\u001b[0m\n\u001b[1;32m      5\u001b[0m \u001b[0;34m\u001b[0m\u001b[0m\n",
      "\u001b[0;31mImportError\u001b[0m: No module named 'bokeh'"
     ]
    }
   ],
   "source": [
    "import bokeh\n",
    "from bokeh.plotting import figure, output_file, show\n",
    "\n",
    "p = figure(plot_width=400, plot_height=400)\n",
    "\n",
    "p.step([1, 2, 3, 4, 5], [6, 7, 2, 4, 5], line_width=2, mode=\"center\")\n",
    "\n",
    "p.show()"
   ]
  },
  {
   "cell_type": "code",
   "execution_count": 64,
   "metadata": {
    "scrolled": true
   },
   "outputs": [
    {
     "name": "stdout",
     "output_type": "stream",
     "text": [
      "30 - 6.2\n",
      "24 - 3.3\n",
      "13 - 5.8067\n",
      "11 - 5.8067\n",
      "9 - 6.0\n",
      "7 - 6.0\n",
      "2 - 8.7531\n",
      "1 - 5.3\n",
      "1 - 0.8\n",
      "1 - 6.2\n",
      "1 - 6.2\n",
      "0 - nan\n"
     ]
    }
   ],
   "source": [
    "this1 = electionsNL.loc[electionsNL['election_date'] == dates[2]]\n",
    "this1.head()\n",
    "for idx,row in this1.iterrows():\n",
    "    print(str(int(row['seats'])) + ' - ' + str(row['left_right']))"
   ]
  },
  {
   "cell_type": "code",
   "execution_count": 68,
   "metadata": {},
   "outputs": [
    {
     "name": "stdout",
     "output_type": "stream",
     "text": [
      "3.5.3\n"
     ]
    }
   ],
   "source": [
    "from platform import python_version\n",
    "print(python_version())"
   ]
  },
  {
   "cell_type": "code",
   "execution_count": null,
   "metadata": {},
   "outputs": [],
   "source": []
  }
 ],
 "metadata": {
  "kernelspec": {
   "display_name": "Python 3",
   "language": "python",
   "name": "python3"
  },
  "language_info": {
   "codemirror_mode": {
    "name": "ipython",
    "version": 3
   },
   "file_extension": ".py",
   "mimetype": "text/x-python",
   "name": "python",
   "nbconvert_exporter": "python",
   "pygments_lexer": "ipython3",
   "version": "3.5.3"
  }
 },
 "nbformat": 4,
 "nbformat_minor": 2
}
